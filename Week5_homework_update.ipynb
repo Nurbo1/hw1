{
 "cells": [
  {
   "cell_type": "markdown",
   "id": "a2b26f4a",
   "metadata": {},
   "source": [
    "## Homework\n",
    "### 1) Here I will introduce the algorithms, our task is to convert/implement all the given algorithms into the function \n",
    "### 2) Carefully check what should be the input arguments and the return value"
   ]
  },
  {
   "cell_type": "markdown",
   "id": "9681e702",
   "metadata": {},
   "source": [
    "----------------------"
   ]
  },
  {
   "cell_type": "markdown",
   "id": "e173364b",
   "metadata": {},
   "source": [
    "### (example) How can we classify the odd and even number?\n",
    "```python\n",
    "n1 = 10\n",
    "n1 % 2 == 0\n",
    "n1 % 2 == 0\n",
    "```\n",
    "\n",
    "### Generate a random integer number and find whether the number is odd or even number.\n",
    "```python\n",
    "import random\n",
    "r = random.randint(0, 10)\n",
    "```"
   ]
  },
  {
   "cell_type": "code",
   "execution_count": 40,
   "id": "e8214389",
   "metadata": {},
   "outputs": [
    {
     "name": "stdout",
     "output_type": "stream",
     "text": [
      "2 is Even number\n"
     ]
    }
   ],
   "source": [
    "import random\n",
    "r = random.randint(0, 10)  # this code will create a random nubmer between 0 to 10\n",
    "\n",
    "if r % 2 == 0:\n",
    "    print(f\"{r} is Even number\")\n",
    "else:\n",
    "    print(f\"{r} is odd number\")"
   ]
  },
  {
   "cell_type": "markdown",
   "id": "9bfb8cbe",
   "metadata": {},
   "source": [
    "--------------------------------------"
   ]
  },
  {
   "cell_type": "markdown",
   "id": "62385aaf",
   "metadata": {},
   "source": [
    "## <font color='red'>HW_task1: from the single integer value, create a function 'my_func' which can find even/odd number</font>\n",
    "```python\n",
    "my_func(3)\n",
    ">>>3 is odd number\n",
    "\n",
    "```"
   ]
  },
  {
   "cell_type": "code",
   "execution_count": 1,
   "id": "b151b3b1",
   "metadata": {
    "scrolled": false
   },
   "outputs": [
    {
     "name": "stdout",
     "output_type": "stream",
     "text": [
      "6 is Even number\n"
     ]
    }
   ],
   "source": [
    "#HW_task1: write your codes here\n",
    "\n",
    "import random\n",
    "r = random.randint(0, 10)  # this code will create a random nubmer between 0 to 10\n",
    "\n",
    "def my_func(n1):\n",
    "    if n1 % 2 == 0:\n",
    "        print(f\"{n1} is Even number\")\n",
    "    else:\n",
    "        print(f\"{n1} is odd number\")    \n",
    "\n",
    "my_func(r)"
   ]
  },
  {
   "cell_type": "markdown",
   "id": "01ee4a81",
   "metadata": {},
   "source": [
    "----------------"
   ]
  },
  {
   "cell_type": "markdown",
   "id": "5e5668b7",
   "metadata": {},
   "source": [
    "### (example) From the given list, separate the odd and even numbers\n",
    "```python\n",
    "L = [4, 5, 1, 2, 3, 1, 7, 8, 4]\n",
    "```"
   ]
  },
  {
   "cell_type": "code",
   "execution_count": 39,
   "id": "19855b3d",
   "metadata": {},
   "outputs": [
    {
     "name": "stdout",
     "output_type": "stream",
     "text": [
      "[4, 2, 8, 4] [5, 1, 3, 1, 7]\n"
     ]
    }
   ],
   "source": [
    "L = [4, 5, 1, 2, 3, 1, 7, 8, 4]\n",
    "Odd = list()\n",
    "Even = list()\n",
    "for i in L:\n",
    "    if i % 2 == 0:\n",
    "        Even.append(i)\n",
    "    elif i % 2 != 0:\n",
    "        Odd.append(i)\n",
    "print(Even, Odd)"
   ]
  },
  {
   "cell_type": "markdown",
   "id": "81398b7a",
   "metadata": {},
   "source": [
    "## <font color='red'>HW_task2: from the given list, create a function 'my_func2' which can classify even/odd numbers, even/odd numbers should be returned to two different variables</font>\n",
    "```python\n",
    "[even, odd] = my_func2([1, 2, 3, 4, 5, 6])\n",
    "print(even, odd)\n",
    ">>>[2, 4, 6] [1, 3, 5]\n",
    "\n",
    "```"
   ]
  },
  {
   "cell_type": "code",
   "execution_count": 103,
   "id": "7d97f143",
   "metadata": {},
   "outputs": [
    {
     "name": "stdout",
     "output_type": "stream",
     "text": [
      "[2, 4, 6] [1, 3, 5]\n"
     ]
    }
   ],
   "source": [
    "#write your codes here\n",
    "a = [1, 2, 3, 4, 5, 6]\n",
    "\n",
    "# Odd = list()  # this should't be the global variable\n",
    "# Even = list()\n",
    "\n",
    "def my_func2(arg1):   \n",
    "    Odd = list()\n",
    "    Even = list()\n",
    "  \n",
    "    return \n",
    "\n",
    "[even, odd] = my_func2(a)\n",
    "print(even, odd)"
   ]
  },
  {
   "cell_type": "markdown",
   "id": "af021e2c",
   "metadata": {},
   "source": [
    "-----------------------"
   ]
  },
  {
   "cell_type": "markdown",
   "id": "d8f72a44",
   "metadata": {},
   "source": [
    "### (example) From the given list, remove the duplicated elements\n",
    "```python\n",
    "L = [4, 5, 1, 2, 3, 1, 7, 8, 4]\n",
    "```"
   ]
  },
  {
   "cell_type": "code",
   "execution_count": 38,
   "id": "dfc04cec",
   "metadata": {},
   "outputs": [
    {
     "name": "stdout",
     "output_type": "stream",
     "text": [
      "[4, 5, 1, 2, 3, 7, 8]\n"
     ]
    }
   ],
   "source": [
    "L = [4, 5, 1, 2, 3, 1, 7, 8, 4]\n",
    "unique = list()\n",
    "for i in L:\n",
    "    if i not in unique:\n",
    "        unique.append(i)\n",
    "print(unique)"
   ]
  },
  {
   "cell_type": "markdown",
   "id": "f7a2da18",
   "metadata": {},
   "source": [
    "## <font color='red'>HW_task3: from the given list, create a function 'my_func3' which can find unique elements</font>\n",
    "```python\n",
    "L = [4, 5, 1, 2, 3, 1, 7, 8, 4]\n",
    "out = my_func3(L)\n",
    ">>> [4, 5, 1, 2, 3, 7, 8]\n",
    "```"
   ]
  },
  {
   "cell_type": "code",
   "execution_count": 104,
   "id": "86862e57",
   "metadata": {},
   "outputs": [
    {
     "name": "stdout",
     "output_type": "stream",
     "text": [
      "[4, 5, 1, 2, 3, 7, 8]\n"
     ]
    }
   ],
   "source": [
    "#write your codes here\n",
    "\n",
    "# unique = list()    # this cannot be declared as global variable\n",
    "\n",
    "def my_func3(arg1):  \n",
    "    unique = list()\n",
    "\n",
    "    return \n",
    "\n",
    "L = [4, 5, 1, 2, 3, 1, 7, 8, 4]\n",
    "output = my_func3(L)\n",
    "print(output)"
   ]
  },
  {
   "cell_type": "markdown",
   "id": "1041c178",
   "metadata": {},
   "source": [
    "## <font color='red'>HW_task3_1: Show that the func2 and func3 are mutually working</font>\n",
    "```python\n",
    "L = [4, 5, 1, 2, 3, 1, 7, 8, 4]\n",
    "\n",
    "out = my_func2(my_func3(L))\n",
    "print(out)\n",
    ">>>[4, 2, 8] [5, 1, 3, 7]\n",
    "```\n"
   ]
  },
  {
   "cell_type": "code",
   "execution_count": 105,
   "id": "74ffa312",
   "metadata": {
    "scrolled": true
   },
   "outputs": [
    {
     "name": "stdout",
     "output_type": "stream",
     "text": [
      "([4, 2, 8], [5, 1, 3, 7])\n"
     ]
    }
   ],
   "source": [
    "# this should work properly \n",
    "L = [4, 5, 1, 2, 3, 1, 7, 8, 4]\n",
    "out = my_func2(my_func3(L))\n",
    "print(out)"
   ]
  },
  {
   "cell_type": "markdown",
   "id": "cf84633b",
   "metadata": {},
   "source": [
    "### (example) From the given string, extract the string letter ###\n",
    "``` python \n",
    "str1 = '!!data28474-'\n",
    "```\n",
    "### We can use the 'for' loop and 'if/else' statements"
   ]
  },
  {
   "cell_type": "code",
   "execution_count": null,
   "id": "70661dd4",
   "metadata": {},
   "outputs": [],
   "source": [
    "str1 = '!!data28474-'\n",
    "output = list()\n",
    "for i in str1:\n",
    "    if i.isalpha():\n",
    "        output.append(i)\n",
    "print(output)"
   ]
  },
  {
   "cell_type": "markdown",
   "id": "43b41144",
   "metadata": {},
   "source": [
    "## <font color='red'> HW_task4: Create a funcion to extract only the alphabets in the list elements</font>\n",
    "```python\n",
    "str1 = '!!data28474-'\n",
    "out = my_func4(str1)\n",
    "print(out)\n",
    ">>>['d', 'a', 't', 'a']\n",
    "\n",
    "```"
   ]
  },
  {
   "cell_type": "code",
   "execution_count": 107,
   "id": "3c997bfc",
   "metadata": {},
   "outputs": [
    {
     "name": "stdout",
     "output_type": "stream",
     "text": [
      "['d', 'a', 't', 'a']\n"
     ]
    }
   ],
   "source": [
    "#write your codes here\n",
    "\n",
    "def my_func4(arg):\n",
    "    output = list() \n",
    "    return \n",
    "\n",
    "str1 = '!!data28474-'\n",
    "print(my_func4(str1))"
   ]
  },
  {
   "cell_type": "markdown",
   "id": "06d9ab76",
   "metadata": {},
   "source": [
    "---------------------------"
   ]
  },
  {
   "cell_type": "markdown",
   "id": "cf5733ad",
   "metadata": {},
   "source": [
    "### (example) Classify the given string into alphabet / numeric / and etc. "
   ]
  },
  {
   "cell_type": "code",
   "execution_count": null,
   "id": "65ff6ebd",
   "metadata": {},
   "outputs": [],
   "source": [
    "str1 = '!!data28474-'\n",
    "s1 = list()\n",
    "n1 = []\n",
    "e1 = []\n",
    "for i in str1:\n",
    "    if i.isalpha():        \n",
    "        s1.append(i)\n",
    "    elif i.isdigit():\n",
    "        n1.append(i)\n",
    "    else:\n",
    "        e1.append(i)\n",
    "print(s1, n1, e1)"
   ]
  },
  {
   "cell_type": "markdown",
   "id": "1a0bb6b7",
   "metadata": {},
   "source": [
    "### Create while loop and aks an user to input any value, Input value should be printed out within the loop\n",
    "\n",
    "```python\n",
    "while True:\n",
    "    a = input(\"Enter any value:\")\n",
    "    print(a)\n",
    "```\n",
    "#### Cond: The loop is broken when user input 'exit'\n",
    "```python\n",
    "while True:\n",
    "    a = input(\"Enter any value:\")\n",
    "    if a == 'exit':\n",
    "        break\n",
    "    print(a)\n",
    "```"
   ]
  },
  {
   "cell_type": "markdown",
   "id": "5a907218",
   "metadata": {},
   "source": [
    "1. Create a while loop\n",
    "2. Ask the user to input the password\n",
    "3. (cond1) The password should consists of letter/digit/special character\n",
    "4. length of password should be longer than 8\n",
    "\n",
    "```python\n",
    "str1 = 'asdf123!!'\n",
    "len(str1)\n",
    "```"
   ]
  },
  {
   "cell_type": "code",
   "execution_count": 65,
   "id": "d29d0f6a",
   "metadata": {
    "scrolled": false
   },
   "outputs": [
    {
     "data": {
      "text/plain": [
       "False"
      ]
     },
     "execution_count": 65,
     "metadata": {},
     "output_type": "execute_result"
    }
   ],
   "source": [
    "len(s1) != 0 and len(n1) != 0  and len(e1) != 0  and len(str1) > 8 "
   ]
  },
  {
   "cell_type": "markdown",
   "id": "43924a67",
   "metadata": {},
   "source": [
    "Lets combine these algorithms"
   ]
  },
  {
   "cell_type": "code",
   "execution_count": 39,
   "id": "26545402",
   "metadata": {},
   "outputs": [
    {
     "name": "stdout",
     "output_type": "stream",
     "text": [
      "Enter any value:exit\n",
      "invalid ID\n",
      "Enter any value:eifj1231eijej@\n",
      "valid ID\n"
     ]
    }
   ],
   "source": [
    "while True:\n",
    "    str1 = input(\"Enter any value:\")\n",
    "    s1 = list()\n",
    "    n1 = []\n",
    "    e1 = []\n",
    "    for i in str1:\n",
    "        if i.isalpha():        \n",
    "            s1.append(i)\n",
    "        elif i.isdigit():\n",
    "            n1.append(i)\n",
    "        else:\n",
    "            e1.append(i)\n",
    "    if len(s1) != 0 and len(n1) != 0  and len(e1) != 0  and len(str1) > 8:\n",
    "        print(\"valid ID\")\n",
    "        break\n",
    "    else:\n",
    "        print(\"invalid ID\")   \n"
   ]
  },
  {
   "cell_type": "markdown",
   "id": "27a09175",
   "metadata": {},
   "source": [
    "print(type(1)==str)"
   ]
  },
  {
   "cell_type": "markdown",
   "id": "fede50c6",
   "metadata": {},
   "source": [
    "## <font color='red'>HW_task5: Create a program to find valid/invalid inputs</font>\n",
    "\n",
    "1. Ask the user to input the password\n",
    "2. The password should consists of letter/digit/special character\n",
    "3. length of password should be longer than 8\n",
    "4. break the program if the user's input is a varid password or if the user's input is 'exit'\n",
    "\n",
    "```python\n",
    ">>> my_func5()\n",
    "\n",
    ">>> Enter your password:ek3\n",
    "invalid ID\n",
    ">>> Enter your password:alelf1\n",
    "invalid ID\n",
    ">>> Enter your password:eifj1234\n",
    "invalid ID\n",
    ">>> Enter your password:ejfjef23!\n",
    "valid ID\n",
    "```\n",
    "\n",
    "\n",
    "```python\n",
    ">>> Enter your password:eifje\n",
    "invalid ID\n",
    ">>> Enter your password:123fjf\n",
    "invalid ID\n",
    ">>> Enter your password:exit\n",
    "bye\n",
    "```"
   ]
  },
  {
   "cell_type": "code",
   "execution_count": null,
   "id": "f3b0bcb1",
   "metadata": {},
   "outputs": [],
   "source": [
    "#write your codes here\n",
    "def my_func5():    \n",
    "\n",
    "my_func5()"
   ]
  }
 ],
 "metadata": {
  "kernelspec": {
   "display_name": "Python 3 (ipykernel)",
   "language": "python",
   "name": "python3"
  },
  "language_info": {
   "codemirror_mode": {
    "name": "ipython",
    "version": 3
   },
   "file_extension": ".py",
   "mimetype": "text/x-python",
   "name": "python",
   "nbconvert_exporter": "python",
   "pygments_lexer": "ipython3",
   "version": "3.9.7"
  }
 },
 "nbformat": 4,
 "nbformat_minor": 5
}
